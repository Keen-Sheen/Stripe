{
 "cells": [
  {
   "cell_type": "code",
   "execution_count": 7,
   "id": "c339ad5e-06fd-4005-ae2c-69f83c9dcf5d",
   "metadata": {},
   "outputs": [
    {
     "name": "stdout",
     "output_type": "stream",
     "text": [
      "rlkeen94@gmail.com\n",
      "rlkeen94@gmail.com\n"
     ]
    }
   ],
   "source": [
    "import stripe\n",
    "stripe.api_key = \"sk_test_51KvZqkIj0iKRuW5NyySRRfLxMLJhScZgDgAWZ1JNrWSgEfgkqE8F0AGpSCCEFb6uFKffcrAaEaUOnBgWnIAGnKAu007v0JYGV1\"\n",
    "\n",
    "# list customers\n",
    "customers = stripe.Customer.list()\n",
    "\n",
    "# print the first customer's email\n",
    "print(customers.data[0].email)\n",
    "\n",
    "# retrieve specific Customer\n",
    "customer = stripe.Customer.retrieve(\"cus_Lcq7gKlXHCWh4Q\")\n",
    "\n",
    "# print that customer's email\n",
    "print(customer.email)"
   ]
  },
  {
   "cell_type": "code",
   "execution_count": 8,
   "id": "ed781b74-f1b1-4bb2-bd58-f1aa0b453bd9",
   "metadata": {
    "collapsed": true,
    "jupyter": {
     "outputs_hidden": true
    },
    "tags": []
   },
   "outputs": [
    {
     "data": {
      "text/plain": [
       "<Customer customer id=cus_Lcq7gKlXHCWh4Q at 0x197d95b2180> JSON: {\n",
       "  \"account_balance\": 0,\n",
       "  \"address\": {\n",
       "    \"city\": \"Chicago \",\n",
       "    \"country\": \"US\",\n",
       "    \"line1\": \"18401 Anthony Ave\",\n",
       "    \"line2\": \"\",\n",
       "    \"postal_code\": \"60444\",\n",
       "    \"state\": \"IL\"\n",
       "  },\n",
       "  \"balance\": 0,\n",
       "  \"created\": 1651640849,\n",
       "  \"currency\": \"usd\",\n",
       "  \"default_source\": null,\n",
       "  \"delinquent\": false,\n",
       "  \"description\": null,\n",
       "  \"discount\": null,\n",
       "  \"email\": \"rlkeen94@gmail.com\",\n",
       "  \"id\": \"cus_Lcq7gKlXHCWh4Q\",\n",
       "  \"invoice_prefix\": \"7D6E5CF7\",\n",
       "  \"invoice_settings\": {\n",
       "    \"custom_fields\": null,\n",
       "    \"default_payment_method\": null,\n",
       "    \"footer\": null\n",
       "  },\n",
       "  \"livemode\": false,\n",
       "  \"metadata\": {},\n",
       "  \"name\": \"Jon Doe\",\n",
       "  \"next_invoice_sequence\": 1,\n",
       "  \"object\": \"customer\",\n",
       "  \"phone\": \"+17088945494\",\n",
       "  \"preferred_locales\": [\n",
       "    \"en-US\"\n",
       "  ],\n",
       "  \"shipping\": {\n",
       "    \"address\": {\n",
       "      \"city\": \"Chicago \",\n",
       "      \"country\": \"US\",\n",
       "      \"line1\": \"18401 Anthony Ave\",\n",
       "      \"line2\": \"\",\n",
       "      \"postal_code\": \"60444\",\n",
       "      \"state\": \"IL\"\n",
       "    },\n",
       "    \"name\": \"Jon Doe\",\n",
       "    \"phone\": \"+17088945494\"\n",
       "  },\n",
       "  \"sources\": {\n",
       "    \"data\": [],\n",
       "    \"has_more\": false,\n",
       "    \"object\": \"list\",\n",
       "    \"total_count\": 0,\n",
       "    \"url\": \"/v1/customers/cus_Lcq7gKlXHCWh4Q/sources\"\n",
       "  },\n",
       "  \"subscriptions\": {\n",
       "    \"data\": [],\n",
       "    \"has_more\": false,\n",
       "    \"object\": \"list\",\n",
       "    \"total_count\": 0,\n",
       "    \"url\": \"/v1/customers/cus_Lcq7gKlXHCWh4Q/subscriptions\"\n",
       "  },\n",
       "  \"tax_exempt\": \"none\",\n",
       "  \"tax_ids\": {\n",
       "    \"data\": [],\n",
       "    \"has_more\": false,\n",
       "    \"object\": \"list\",\n",
       "    \"total_count\": 0,\n",
       "    \"url\": \"/v1/customers/cus_Lcq7gKlXHCWh4Q/tax_ids\"\n",
       "  },\n",
       "  \"tax_info\": null,\n",
       "  \"tax_info_verification\": null,\n",
       "  \"test_clock\": null\n",
       "}"
      ]
     },
     "execution_count": 8,
     "metadata": {},
     "output_type": "execute_result"
    }
   ],
   "source": [
    "import stripe\n",
    "\n",
    "# list customers\n",
    "stripe.Customer.list(\n",
    "    api_key=\"sk_test_51KvZqkIj0iKRuW5NyySRRfLxMLJhScZgDgAWZ1JNrWSgEfgkqE8F0AGpSCCEFb6uFKffcrAaEaUOnBgWnIAGnKAu007v0JYGV1\",\n",
    "    stripe_account=\"acct_1KvZqkIj0iKRuW5N\",\n",
    "    stripe_version=\"2019-02-19\"\n",
    ")\n",
    "\n",
    "# retrieve single customer\n",
    "stripe.Customer.retrieve(\n",
    "    \"cus_Lcq7gKlXHCWh4Q\",\n",
    "    api_key=\"sk_test_51KvZqkIj0iKRuW5NyySRRfLxMLJhScZgDgAWZ1JNrWSgEfgkqE8F0AGpSCCEFb6uFKffcrAaEaUOnBgWnIAGnKAu007v0JYGV1\",\n",
    "    stripe_account=\"acct_1KvZqkIj0iKRuW5N\",\n",
    "    stripe_version=\"2019-02-19\"\n",
    ")"
   ]
  },
  {
   "cell_type": "code",
   "execution_count": 9,
   "id": "c0fea081-b57a-4406-ba75-a1f02249ff8a",
   "metadata": {},
   "outputs": [],
   "source": [
    "client = stripe.http_client.UrlFetchClient()\n",
    "client = stripe.http_client.RequestsClient()\n",
    "client = stripe.http_client.PycurlClient()\n",
    "client = stripe.http_client.Urllib2Client()\n",
    "stripe.default_http_client = client"
   ]
  },
  {
   "cell_type": "code",
   "execution_count": null,
   "id": "ea76d173-de42-4ed9-919b-e5c66bd6f316",
   "metadata": {},
   "outputs": [],
   "source": []
  }
 ],
 "metadata": {
  "kernelspec": {
   "display_name": "Python 3 (ipykernel)",
   "language": "python",
   "name": "python3"
  },
  "language_info": {
   "codemirror_mode": {
    "name": "ipython",
    "version": 3
   },
   "file_extension": ".py",
   "mimetype": "text/x-python",
   "name": "python",
   "nbconvert_exporter": "python",
   "pygments_lexer": "ipython3",
   "version": "3.8.8"
  }
 },
 "nbformat": 4,
 "nbformat_minor": 5
}
